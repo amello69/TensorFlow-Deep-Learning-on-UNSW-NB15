{
  "nbformat": 4,
  "nbformat_minor": 0,
  "metadata": {
    "colab": {
      "provenance": [],
      "mount_file_id": "196qVPsUR348UeI5JQsm3q3naiEzJc9P1",
      "authorship_tag": "ABX9TyNlbELkp6Fxox2LOfRq3yyJ",
      "include_colab_link": true
    },
    "kernelspec": {
      "name": "python3",
      "display_name": "Python 3"
    },
    "language_info": {
      "name": "python"
    }
  },
  "cells": [
    {
      "cell_type": "markdown",
      "metadata": {
        "id": "view-in-github",
        "colab_type": "text"
      },
      "source": [
        "<a href=\"https://colab.research.google.com/github/amello69/cyberattacks_unsw15/blob/main/LSTM_model_on_UNSW_NB15.ipynb\" target=\"_parent\"><img src=\"https://colab.research.google.com/assets/colab-badge.svg\" alt=\"Open In Colab\"/></a>"
      ]
    },
    {
      "cell_type": "markdown",
      "source": [
        "# LSTM model on UNSW-NB15 dataset\n",
        "\n",
        "In a previous notebook the dataset was discussed and feature selection was carried out using ExtraTrees classifier. In this notebook we will use the results of this feature selection to train and test a LSTM model."
      ],
      "metadata": {
        "id": "t9mf_uJ4fVIC"
      }
    },
    {
      "cell_type": "markdown",
      "source": [
        "# Preliminary Steps\n",
        "* import libraries\n",
        "* import data\n",
        "* Process data"
      ],
      "metadata": {
        "id": "-WP6gJE3f1Ga"
      }
    },
    {
      "cell_type": "code",
      "execution_count": 1,
      "metadata": {
        "id": "yl2wJ3RNYwa4"
      },
      "outputs": [],
      "source": [
        "# import required libraries\n",
        "import pandas as pd\n",
        "from google.colab import files\n",
        "from sklearn.model_selection import train_test_split\n",
        "import tensorflow as tf\n"
      ]
    },
    {
      "cell_type": "code",
      "source": [
        "#Let's start by getting our data. This data contains only features considered important\n",
        "#based on their importance scores an Extratrees algorithm was used to pre-select these features\n",
        "# import cleaned dataset\n",
        "dataset = pd.read_pickle(\"/content/drive/MyDrive/network dataset/df-bulk2.pk1\")\n",
        "dataset_features = pd.read_pickle(\"/content/drive/MyDrive/Pickles/et_selx.pk1\")\n",
        "col = dataset_features.columns # get selected feature columns\n",
        "\n",
        "X = dataset[col] #select data with only selected feature columns\n",
        "y= dataset['label'] # get corresponding labels"
      ],
      "metadata": {
        "id": "1VXmr3dlY4By"
      },
      "execution_count": null,
      "outputs": []
    },
    {
      "cell_type": "code",
      "source": [
        "X.head()"
      ],
      "metadata": {
        "colab": {
          "base_uri": "https://localhost:8080/"
        },
        "id": "3jMZ1ue8Z6US",
        "outputId": "b1f4ec7a-b410-4eb9-bde4-f9effca8c2a1"
      },
      "execution_count": null,
      "outputs": [
        {
          "output_type": "execute_result",
          "data": {
            "text/plain": [
              "        rate  sttl  dttl  ct_srv_src  ct_state_ttl  ct_dst_src_ltm  \\\n",
              "0  74.087490   252   254           1             0               1   \n",
              "1  78.473370    62   252          43             1               2   \n",
              "2  14.170161    62   252           7             1               3   \n",
              "3  13.677108    62   252           1             1               3   \n",
              "4  33.373825   254   252          43             1              40   \n",
              "\n",
              "   ct_srv_dst  is_sm_ips_ports  smean_log1p  dmean_log1p  dpkts_log1p  \\\n",
              "0           1                0     3.784190     3.784190     1.609438   \n",
              "1           6                0     3.970292     7.009409     3.663562   \n",
              "2           6                0     3.850148     6.715383     2.833213   \n",
              "3           1                0     3.970292     4.174387     2.564949   \n",
              "4          39                0     3.988984     3.828641     1.945910   \n",
              "\n",
              "   dtcpb_log1p  sinpkt_log1p  dinpkt_log1p  sload_log1p  dload_log1p  \\\n",
              "0    21.512874      3.230630      2.238047     9.558172     9.047394   \n",
              "1    21.847347      3.930158      2.799283     9.035524    13.129482   \n",
              "2    21.809507      5.450504      4.641861     7.360913    11.017485   \n",
              "3    20.769618      5.036150      4.513446     7.916143     8.119584   \n",
              "4    21.404924      3.886712      4.339375     9.055147     8.291060   \n",
              "\n",
              "   proto_tcp  state_CON  state_INT  \n",
              "0          1          0          0  \n",
              "1          1          0          0  \n",
              "2          1          0          0  \n",
              "3          1          0          0  \n",
              "4          1          0          0  "
            ],
            "text/html": [
              "\n",
              "  <div id=\"df-9b8adea4-7e5c-4f57-9ea1-db2aa5fe52cf\">\n",
              "    <div class=\"colab-df-container\">\n",
              "      <div>\n",
              "<style scoped>\n",
              "    .dataframe tbody tr th:only-of-type {\n",
              "        vertical-align: middle;\n",
              "    }\n",
              "\n",
              "    .dataframe tbody tr th {\n",
              "        vertical-align: top;\n",
              "    }\n",
              "\n",
              "    .dataframe thead th {\n",
              "        text-align: right;\n",
              "    }\n",
              "</style>\n",
              "<table border=\"1\" class=\"dataframe\">\n",
              "  <thead>\n",
              "    <tr style=\"text-align: right;\">\n",
              "      <th></th>\n",
              "      <th>rate</th>\n",
              "      <th>sttl</th>\n",
              "      <th>dttl</th>\n",
              "      <th>ct_srv_src</th>\n",
              "      <th>ct_state_ttl</th>\n",
              "      <th>ct_dst_src_ltm</th>\n",
              "      <th>ct_srv_dst</th>\n",
              "      <th>is_sm_ips_ports</th>\n",
              "      <th>smean_log1p</th>\n",
              "      <th>dmean_log1p</th>\n",
              "      <th>dpkts_log1p</th>\n",
              "      <th>dtcpb_log1p</th>\n",
              "      <th>sinpkt_log1p</th>\n",
              "      <th>dinpkt_log1p</th>\n",
              "      <th>sload_log1p</th>\n",
              "      <th>dload_log1p</th>\n",
              "      <th>proto_tcp</th>\n",
              "      <th>state_CON</th>\n",
              "      <th>state_INT</th>\n",
              "    </tr>\n",
              "  </thead>\n",
              "  <tbody>\n",
              "    <tr>\n",
              "      <th>0</th>\n",
              "      <td>74.087490</td>\n",
              "      <td>252</td>\n",
              "      <td>254</td>\n",
              "      <td>1</td>\n",
              "      <td>0</td>\n",
              "      <td>1</td>\n",
              "      <td>1</td>\n",
              "      <td>0</td>\n",
              "      <td>3.784190</td>\n",
              "      <td>3.784190</td>\n",
              "      <td>1.609438</td>\n",
              "      <td>21.512874</td>\n",
              "      <td>3.230630</td>\n",
              "      <td>2.238047</td>\n",
              "      <td>9.558172</td>\n",
              "      <td>9.047394</td>\n",
              "      <td>1</td>\n",
              "      <td>0</td>\n",
              "      <td>0</td>\n",
              "    </tr>\n",
              "    <tr>\n",
              "      <th>1</th>\n",
              "      <td>78.473370</td>\n",
              "      <td>62</td>\n",
              "      <td>252</td>\n",
              "      <td>43</td>\n",
              "      <td>1</td>\n",
              "      <td>2</td>\n",
              "      <td>6</td>\n",
              "      <td>0</td>\n",
              "      <td>3.970292</td>\n",
              "      <td>7.009409</td>\n",
              "      <td>3.663562</td>\n",
              "      <td>21.847347</td>\n",
              "      <td>3.930158</td>\n",
              "      <td>2.799283</td>\n",
              "      <td>9.035524</td>\n",
              "      <td>13.129482</td>\n",
              "      <td>1</td>\n",
              "      <td>0</td>\n",
              "      <td>0</td>\n",
              "    </tr>\n",
              "    <tr>\n",
              "      <th>2</th>\n",
              "      <td>14.170161</td>\n",
              "      <td>62</td>\n",
              "      <td>252</td>\n",
              "      <td>7</td>\n",
              "      <td>1</td>\n",
              "      <td>3</td>\n",
              "      <td>6</td>\n",
              "      <td>0</td>\n",
              "      <td>3.850148</td>\n",
              "      <td>6.715383</td>\n",
              "      <td>2.833213</td>\n",
              "      <td>21.809507</td>\n",
              "      <td>5.450504</td>\n",
              "      <td>4.641861</td>\n",
              "      <td>7.360913</td>\n",
              "      <td>11.017485</td>\n",
              "      <td>1</td>\n",
              "      <td>0</td>\n",
              "      <td>0</td>\n",
              "    </tr>\n",
              "    <tr>\n",
              "      <th>3</th>\n",
              "      <td>13.677108</td>\n",
              "      <td>62</td>\n",
              "      <td>252</td>\n",
              "      <td>1</td>\n",
              "      <td>1</td>\n",
              "      <td>3</td>\n",
              "      <td>1</td>\n",
              "      <td>0</td>\n",
              "      <td>3.970292</td>\n",
              "      <td>4.174387</td>\n",
              "      <td>2.564949</td>\n",
              "      <td>20.769618</td>\n",
              "      <td>5.036150</td>\n",
              "      <td>4.513446</td>\n",
              "      <td>7.916143</td>\n",
              "      <td>8.119584</td>\n",
              "      <td>1</td>\n",
              "      <td>0</td>\n",
              "      <td>0</td>\n",
              "    </tr>\n",
              "    <tr>\n",
              "      <th>4</th>\n",
              "      <td>33.373825</td>\n",
              "      <td>254</td>\n",
              "      <td>252</td>\n",
              "      <td>43</td>\n",
              "      <td>1</td>\n",
              "      <td>40</td>\n",
              "      <td>39</td>\n",
              "      <td>0</td>\n",
              "      <td>3.988984</td>\n",
              "      <td>3.828641</td>\n",
              "      <td>1.945910</td>\n",
              "      <td>21.404924</td>\n",
              "      <td>3.886712</td>\n",
              "      <td>4.339375</td>\n",
              "      <td>9.055147</td>\n",
              "      <td>8.291060</td>\n",
              "      <td>1</td>\n",
              "      <td>0</td>\n",
              "      <td>0</td>\n",
              "    </tr>\n",
              "  </tbody>\n",
              "</table>\n",
              "</div>\n",
              "      <button class=\"colab-df-convert\" onclick=\"convertToInteractive('df-9b8adea4-7e5c-4f57-9ea1-db2aa5fe52cf')\"\n",
              "              title=\"Convert this dataframe to an interactive table.\"\n",
              "              style=\"display:none;\">\n",
              "        \n",
              "  <svg xmlns=\"http://www.w3.org/2000/svg\" height=\"24px\"viewBox=\"0 0 24 24\"\n",
              "       width=\"24px\">\n",
              "    <path d=\"M0 0h24v24H0V0z\" fill=\"none\"/>\n",
              "    <path d=\"M18.56 5.44l.94 2.06.94-2.06 2.06-.94-2.06-.94-.94-2.06-.94 2.06-2.06.94zm-11 1L8.5 8.5l.94-2.06 2.06-.94-2.06-.94L8.5 2.5l-.94 2.06-2.06.94zm10 10l.94 2.06.94-2.06 2.06-.94-2.06-.94-.94-2.06-.94 2.06-2.06.94z\"/><path d=\"M17.41 7.96l-1.37-1.37c-.4-.4-.92-.59-1.43-.59-.52 0-1.04.2-1.43.59L10.3 9.45l-7.72 7.72c-.78.78-.78 2.05 0 2.83L4 21.41c.39.39.9.59 1.41.59.51 0 1.02-.2 1.41-.59l7.78-7.78 2.81-2.81c.8-.78.8-2.07 0-2.86zM5.41 20L4 18.59l7.72-7.72 1.47 1.35L5.41 20z\"/>\n",
              "  </svg>\n",
              "      </button>\n",
              "      \n",
              "  <style>\n",
              "    .colab-df-container {\n",
              "      display:flex;\n",
              "      flex-wrap:wrap;\n",
              "      gap: 12px;\n",
              "    }\n",
              "\n",
              "    .colab-df-convert {\n",
              "      background-color: #E8F0FE;\n",
              "      border: none;\n",
              "      border-radius: 50%;\n",
              "      cursor: pointer;\n",
              "      display: none;\n",
              "      fill: #1967D2;\n",
              "      height: 32px;\n",
              "      padding: 0 0 0 0;\n",
              "      width: 32px;\n",
              "    }\n",
              "\n",
              "    .colab-df-convert:hover {\n",
              "      background-color: #E2EBFA;\n",
              "      box-shadow: 0px 1px 2px rgba(60, 64, 67, 0.3), 0px 1px 3px 1px rgba(60, 64, 67, 0.15);\n",
              "      fill: #174EA6;\n",
              "    }\n",
              "\n",
              "    [theme=dark] .colab-df-convert {\n",
              "      background-color: #3B4455;\n",
              "      fill: #D2E3FC;\n",
              "    }\n",
              "\n",
              "    [theme=dark] .colab-df-convert:hover {\n",
              "      background-color: #434B5C;\n",
              "      box-shadow: 0px 1px 3px 1px rgba(0, 0, 0, 0.15);\n",
              "      filter: drop-shadow(0px 1px 2px rgba(0, 0, 0, 0.3));\n",
              "      fill: #FFFFFF;\n",
              "    }\n",
              "  </style>\n",
              "\n",
              "      <script>\n",
              "        const buttonEl =\n",
              "          document.querySelector('#df-9b8adea4-7e5c-4f57-9ea1-db2aa5fe52cf button.colab-df-convert');\n",
              "        buttonEl.style.display =\n",
              "          google.colab.kernel.accessAllowed ? 'block' : 'none';\n",
              "\n",
              "        async function convertToInteractive(key) {\n",
              "          const element = document.querySelector('#df-9b8adea4-7e5c-4f57-9ea1-db2aa5fe52cf');\n",
              "          const dataTable =\n",
              "            await google.colab.kernel.invokeFunction('convertToInteractive',\n",
              "                                                     [key], {});\n",
              "          if (!dataTable) return;\n",
              "\n",
              "          const docLinkHtml = 'Like what you see? Visit the ' +\n",
              "            '<a target=\"_blank\" href=https://colab.research.google.com/notebooks/data_table.ipynb>data table notebook</a>'\n",
              "            + ' to learn more about interactive tables.';\n",
              "          element.innerHTML = '';\n",
              "          dataTable['output_type'] = 'display_data';\n",
              "          await google.colab.output.renderOutput(dataTable, element);\n",
              "          const docLink = document.createElement('div');\n",
              "          docLink.innerHTML = docLinkHtml;\n",
              "          element.appendChild(docLink);\n",
              "        }\n",
              "      </script>\n",
              "    </div>\n",
              "  </div>\n",
              "  "
            ]
          },
          "metadata": {},
          "execution_count": 29
        }
      ]
    },
    {
      "cell_type": "code",
      "source": [
        "y.head()"
      ],
      "metadata": {
        "colab": {
          "base_uri": "https://localhost:8080/"
        },
        "id": "1jukcUVobkBx",
        "outputId": "20a8cd90-6491-4cfa-ac0a-b206dbbec99d"
      },
      "execution_count": null,
      "outputs": [
        {
          "output_type": "execute_result",
          "data": {
            "text/plain": [
              "0    0\n",
              "1    0\n",
              "2    0\n",
              "3    0\n",
              "4    0\n",
              "Name: label, dtype: int64"
            ]
          },
          "metadata": {},
          "execution_count": 30
        }
      ]
    },
    {
      "cell_type": "code",
      "source": [
        "# Let's split into train, test, validation\n",
        "X_train,X_rem, y_train,  y_rem  = train_test_split(X,y, train_size=0.8) # separate training data\n",
        "X_valid,X_test, y_valid,  y_test = train_test_split(X_rem, y_rem, test_size=0.5) # separate remaining data in to test and validation data."
      ],
      "metadata": {
        "id": "yT_r1-ANZ-Jf"
      },
      "execution_count": null,
      "outputs": []
    },
    {
      "cell_type": "code",
      "source": [
        "X_train.shape, y_train.shape"
      ],
      "metadata": {
        "colab": {
          "base_uri": "https://localhost:8080/"
        },
        "id": "2f94ugRofF-J",
        "outputId": "b5e78daf-7321-4554-8dad-f633a1169276"
      },
      "execution_count": null,
      "outputs": [
        {
          "output_type": "execute_result",
          "data": {
            "text/plain": [
              "((140272, 19), (140272,))"
            ]
          },
          "metadata": {},
          "execution_count": 32
        }
      ]
    },
    {
      "cell_type": "code",
      "source": [
        "#Convert data to Tensor and reshape to 3 dimensions\n",
        "X_traint = tf.constant(X_train)\n",
        "X_traint = tf. reshape(X_traint, shape=[140272,19,1])\n",
        "\n",
        "y_traint = tf. constant(y_train)\n",
        "y_traint = tf.reshape(y_traint, shape=[140272,1,1])"
      ],
      "metadata": {
        "id": "wMO6u5uItUZL"
      },
      "execution_count": null,
      "outputs": []
    },
    {
      "cell_type": "markdown",
      "source": [
        "# Develop LSTM Model\n",
        "Here we will build, compile and train the model:\n",
        "* build initial\n",
        "* train model\n",
        "* test model\n",
        "* Tune model parameters"
      ],
      "metadata": {
        "id": "7Uy9ar_vgEv5"
      }
    },
    {
      "cell_type": "markdown",
      "source": [
        "## Build Model"
      ],
      "metadata": {
        "id": "AjLZamzmhCxa"
      }
    },
    {
      "cell_type": "code",
      "source": [
        "#from tensorflow import keras\n",
        "#from tensorflow.keras import layers"
      ],
      "metadata": {
        "id": "TW8gSdyOhM9k"
      },
      "execution_count": null,
      "outputs": []
    },
    {
      "cell_type": "code",
      "source": [
        "#create model\n",
        "\n",
        "model = tf.keras.Sequential([\n",
        "    tf.keras.layers.LSTM(19,activation ='relu'),\n",
        "    tf.keras.layers.Dropout(0.2),\n",
        "    tf.keras.layers.Dense(19, activation = 'tanh'),\n",
        "    tf.keras.layers.Dense(1, activation = 'sigmoid')\n",
        "])"
      ],
      "metadata": {
        "id": "5K2mpuo4gmER"
      },
      "execution_count": null,
      "outputs": []
    },
    {
      "cell_type": "code",
      "source": [
        "# Set values\n",
        "learning_rate = 0.1\n",
        "epochs = 5\n",
        "loss = 'binary_crossentropy'\n",
        "metrics = 'accuracy'\n",
        "\n",
        "# Create optimizer\n",
        "optimizer = tf.keras.optimizers.legacy.Adam(learning_rate)\n",
        "\n",
        "#compile model\n",
        "model.compile(optimizer, loss, metrics )\n"
      ],
      "metadata": {
        "id": "cRAwevxrhu4z"
      },
      "execution_count": null,
      "outputs": []
    },
    {
      "cell_type": "markdown",
      "source": [
        "## Train Model\n",
        "\n"
      ],
      "metadata": {
        "id": "ikhvrMXfikeS"
      }
    },
    {
      "cell_type": "markdown",
      "source": [
        "### Train 1"
      ],
      "metadata": {
        "id": "Jyu8yamk-OYm"
      }
    },
    {
      "cell_type": "code",
      "source": [
        "# Set values\n",
        "learning_rate = 0.1\n",
        "epochs = 5"
      ],
      "metadata": {
        "id": "KcXfrO6Q-N57"
      },
      "execution_count": null,
      "outputs": []
    },
    {
      "cell_type": "code",
      "source": [
        "#train model\n",
        "history = model.fit(X_traint, y_traint, epochs, verbose=1)"
      ],
      "metadata": {
        "colab": {
          "base_uri": "https://localhost:8080/"
        },
        "id": "EEg7VIbWisST",
        "outputId": "ce4d786d-f4ef-4157-a71c-6d3692277269"
      },
      "execution_count": null,
      "outputs": [
        {
          "output_type": "stream",
          "name": "stdout",
          "text": [
            "28055/28055 [==============================] - 288s 10ms/step - loss: 0.5759 - accuracy: 0.6973\n"
          ]
        }
      ]
    },
    {
      "cell_type": "markdown",
      "source": [
        "### Train 2"
      ],
      "metadata": {
        "id": "IeScH0Rw-nhf"
      }
    },
    {
      "cell_type": "code",
      "source": [
        "# Set values\n",
        "learning_rate = 0.7\n",
        "epochs = 5\n",
        "batch_size = 128"
      ],
      "metadata": {
        "id": "ZWhoM4xR-nhg"
      },
      "execution_count": null,
      "outputs": []
    },
    {
      "cell_type": "code",
      "source": [
        "#train model\n",
        "history2 = model.fit(X_traint, y_traint, batch_size, epochs, verbose=1)"
      ],
      "metadata": {
        "colab": {
          "base_uri": "https://localhost:8080/"
        },
        "outputId": "8eb5afcd-b101-452f-ad59-13f72c2050ff",
        "id": "0zLYvl-y-nhg"
      },
      "execution_count": null,
      "outputs": [
        {
          "output_type": "stream",
          "name": "stdout",
          "text": [
            "Epoch 1/5\n",
            "1096/1096 [==============================] - 29s 25ms/step - loss: 0.4874 - accuracy: 0.7440\n",
            "Epoch 2/5\n",
            "1096/1096 [==============================] - 28s 25ms/step - loss: 0.5660 - accuracy: 0.6969\n",
            "Epoch 3/5\n",
            "1096/1096 [==============================] - 28s 25ms/step - loss: 0.4532 - accuracy: 0.7342\n",
            "Epoch 4/5\n",
            "1096/1096 [==============================] - 28s 25ms/step - loss: 0.4272 - accuracy: 0.7450\n",
            "Epoch 5/5\n",
            "1096/1096 [==============================] - 28s 26ms/step - loss: 0.4226 - accuracy: 0.7447\n"
          ]
        }
      ]
    },
    {
      "cell_type": "markdown",
      "source": [
        "### Train 3"
      ],
      "metadata": {
        "id": "UVWhXzdo-sEI"
      }
    },
    {
      "cell_type": "code",
      "source": [
        "# Set values\n",
        "learning_rate = 0.7\n",
        "epochs = 50\n",
        "batch_size = 128"
      ],
      "metadata": {
        "id": "EJAszeOy-sEI"
      },
      "execution_count": null,
      "outputs": []
    },
    {
      "cell_type": "code",
      "source": [
        "#train model\n",
        "history = model.fit(X_traint, y_traint,batch_size, epochs, verbose=1)"
      ],
      "metadata": {
        "colab": {
          "base_uri": "https://localhost:8080/"
        },
        "outputId": "f1a93364-c8ec-4547-8698-ef76c77338e8",
        "id": "gZUf2LC4-sEI"
      },
      "execution_count": null,
      "outputs": [
        {
          "output_type": "stream",
          "name": "stdout",
          "text": [
            "Epoch 1/50\n",
            "1096/1096 [==============================] - 14s 13ms/step - loss: 0.6312 - accuracy: 0.6808\n",
            "Epoch 2/50\n",
            "1096/1096 [==============================] - 14s 12ms/step - loss: 0.6340 - accuracy: 0.6809\n",
            "Epoch 3/50\n",
            "1096/1096 [==============================] - 14s 12ms/step - loss: 0.6355 - accuracy: 0.6792\n",
            "Epoch 4/50\n",
            "1096/1096 [==============================] - 14s 13ms/step - loss: 0.6426 - accuracy: 0.6710\n",
            "Epoch 5/50\n",
            "1096/1096 [==============================] - 14s 13ms/step - loss: 0.6385 - accuracy: 0.6780\n",
            "Epoch 6/50\n",
            "1096/1096 [==============================] - 14s 13ms/step - loss: 0.6391 - accuracy: 0.6774\n",
            "Epoch 7/50\n",
            "1096/1096 [==============================] - 14s 13ms/step - loss: 0.6386 - accuracy: 0.6777\n",
            "Epoch 8/50\n",
            "1096/1096 [==============================] - 14s 13ms/step - loss: 0.6370 - accuracy: 0.6774\n",
            "Epoch 9/50\n",
            "1096/1096 [==============================] - 13s 12ms/step - loss: 0.6390 - accuracy: 0.6767\n",
            "Epoch 10/50\n",
            "1096/1096 [==============================] - 14s 13ms/step - loss: 0.6391 - accuracy: 0.6760\n",
            "Epoch 11/50\n",
            "1096/1096 [==============================] - 14s 13ms/step - loss: 0.6377 - accuracy: 0.6792\n",
            "Epoch 12/50\n",
            "1096/1096 [==============================] - 14s 13ms/step - loss: 0.6394 - accuracy: 0.6756\n",
            "Epoch 13/50\n",
            "1096/1096 [==============================] - 14s 13ms/step - loss: 0.6409 - accuracy: 0.6782\n",
            "Epoch 14/50\n",
            "1096/1096 [==============================] - 14s 13ms/step - loss: 0.6387 - accuracy: 0.6772\n",
            "Epoch 15/50\n",
            "1096/1096 [==============================] - 14s 13ms/step - loss: 0.6399 - accuracy: 0.6771\n",
            "Epoch 16/50\n",
            "1096/1096 [==============================] - 16s 15ms/step - loss: 0.6396 - accuracy: 0.6770\n",
            "Epoch 17/50\n",
            "1096/1096 [==============================] - 14s 13ms/step - loss: 0.6375 - accuracy: 0.6785\n",
            "Epoch 18/50\n",
            "1096/1096 [==============================] - 14s 13ms/step - loss: 0.6388 - accuracy: 0.6764\n",
            "Epoch 19/50\n",
            "1096/1096 [==============================] - 14s 13ms/step - loss: 0.6391 - accuracy: 0.6769\n",
            "Epoch 20/50\n",
            "1096/1096 [==============================] - 14s 13ms/step - loss: 0.6389 - accuracy: 0.6785\n",
            "Epoch 21/50\n",
            "1096/1096 [==============================] - 14s 13ms/step - loss: 0.6378 - accuracy: 0.6775\n",
            "Epoch 22/50\n",
            "1096/1096 [==============================] - 14s 13ms/step - loss: 0.6411 - accuracy: 0.6757\n",
            "Epoch 23/50\n",
            "1096/1096 [==============================] - 14s 13ms/step - loss: 0.6392 - accuracy: 0.6760\n",
            "Epoch 24/50\n",
            "1096/1096 [==============================] - 14s 12ms/step - loss: 0.6372 - accuracy: 0.6787\n",
            "Epoch 25/50\n",
            "1096/1096 [==============================] - 13s 12ms/step - loss: 0.6381 - accuracy: 0.6780\n",
            "Epoch 26/50\n",
            "1096/1096 [==============================] - 13s 12ms/step - loss: 0.6408 - accuracy: 0.6773\n",
            "Epoch 27/50\n",
            "1096/1096 [==============================] - 14s 13ms/step - loss: 0.6366 - accuracy: 0.6780\n",
            "Epoch 28/50\n",
            "1096/1096 [==============================] - 14s 13ms/step - loss: 0.6381 - accuracy: 0.6779\n",
            "Epoch 29/50\n",
            "1096/1096 [==============================] - 14s 13ms/step - loss: 0.6404 - accuracy: 0.6763\n",
            "Epoch 30/50\n",
            "1096/1096 [==============================] - 14s 13ms/step - loss: 0.6372 - accuracy: 0.6787\n",
            "Epoch 31/50\n",
            "1096/1096 [==============================] - 16s 15ms/step - loss: 0.6422 - accuracy: 0.6751\n",
            "Epoch 32/50\n",
            "1096/1096 [==============================] - 14s 13ms/step - loss: 0.6392 - accuracy: 0.6774\n",
            "Epoch 33/50\n",
            "1096/1096 [==============================] - 14s 13ms/step - loss: 0.6431 - accuracy: 0.6732\n",
            "Epoch 34/50\n",
            "1096/1096 [==============================] - 14s 13ms/step - loss: 0.6370 - accuracy: 0.6771\n",
            "Epoch 35/50\n",
            "1096/1096 [==============================] - 14s 13ms/step - loss: 0.6375 - accuracy: 0.6789\n",
            "Epoch 36/50\n",
            "1096/1096 [==============================] - 14s 13ms/step - loss: 0.6416 - accuracy: 0.6764\n",
            "Epoch 37/50\n",
            "1096/1096 [==============================] - 13s 12ms/step - loss: 0.6393 - accuracy: 0.6777\n",
            "Epoch 38/50\n",
            "1096/1096 [==============================] - 13s 12ms/step - loss: 0.6379 - accuracy: 0.6786\n",
            "Epoch 39/50\n",
            "1096/1096 [==============================] - 14s 12ms/step - loss: 0.6387 - accuracy: 0.6773\n",
            "Epoch 40/50\n",
            "1096/1096 [==============================] - 14s 13ms/step - loss: 0.6402 - accuracy: 0.6763\n",
            "Epoch 41/50\n",
            "1096/1096 [==============================] - 14s 13ms/step - loss: 0.6385 - accuracy: 0.6785\n",
            "Epoch 42/50\n",
            "1096/1096 [==============================] - 14s 13ms/step - loss: 0.6384 - accuracy: 0.6784\n",
            "Epoch 43/50\n",
            "1096/1096 [==============================] - 14s 13ms/step - loss: 0.6381 - accuracy: 0.6789\n",
            "Epoch 44/50\n",
            "1096/1096 [==============================] - 14s 13ms/step - loss: 0.6390 - accuracy: 0.6765\n",
            "Epoch 45/50\n",
            "1096/1096 [==============================] - 16s 14ms/step - loss: 0.6384 - accuracy: 0.6785\n",
            "Epoch 46/50\n",
            "1096/1096 [==============================] - 14s 13ms/step - loss: 0.6401 - accuracy: 0.6766\n",
            "Epoch 47/50\n",
            "1096/1096 [==============================] - 14s 13ms/step - loss: 0.6368 - accuracy: 0.6795\n",
            "Epoch 48/50\n",
            "1096/1096 [==============================] - 14s 13ms/step - loss: 0.6384 - accuracy: 0.6774\n",
            "Epoch 49/50\n",
            "1096/1096 [==============================] - 15s 13ms/step - loss: 0.6359 - accuracy: 0.6801\n",
            "Epoch 50/50\n",
            "1096/1096 [==============================] - 14s 13ms/step - loss: 0.6371 - accuracy: 0.6795\n"
          ]
        }
      ]
    },
    {
      "cell_type": "markdown",
      "source": [
        "### Train 4"
      ],
      "metadata": {
        "id": "oJUyCtAPbF4K"
      }
    },
    {
      "cell_type": "code",
      "source": [
        "# Set values\n",
        "learning_rate = 0.7\n",
        "epochs = 14\n",
        "batch_size = 128"
      ],
      "metadata": {
        "id": "x-bc0wiQbF4m"
      },
      "execution_count": null,
      "outputs": []
    },
    {
      "cell_type": "code",
      "source": [
        "#train model\n",
        "history = model.fit(X_traint, y_traint,batch_size, epochs, verbose=1)"
      ],
      "metadata": {
        "colab": {
          "base_uri": "https://localhost:8080/"
        },
        "outputId": "38701765-cd71-41b4-c483-b4bd448b3e8a",
        "id": "VFgywnZnbF4n"
      },
      "execution_count": null,
      "outputs": [
        {
          "output_type": "stream",
          "name": "stdout",
          "text": [
            "Epoch 1/14\n",
            "1096/1096 [==============================] - 30s 28ms/step - loss: 0.2359 - accuracy: 0.9072\n",
            "Epoch 2/14\n",
            "1096/1096 [==============================] - 31s 28ms/step - loss: 0.2129 - accuracy: 0.9213\n",
            "Epoch 3/14\n",
            "1096/1096 [==============================] - 29s 27ms/step - loss: 0.2158 - accuracy: 0.9211\n",
            "Epoch 4/14\n",
            "1096/1096 [==============================] - 30s 27ms/step - loss: 0.2272 - accuracy: 0.9163\n",
            "Epoch 5/14\n",
            "1096/1096 [==============================] - 29s 27ms/step - loss: 0.2214 - accuracy: 0.9173\n",
            "Epoch 6/14\n",
            "1096/1096 [==============================] - 30s 27ms/step - loss: 0.2196 - accuracy: 0.9189\n",
            "Epoch 7/14\n",
            "1096/1096 [==============================] - 30s 27ms/step - loss: 0.2180 - accuracy: 0.9211\n",
            "Epoch 8/14\n",
            "1096/1096 [==============================] - 30s 27ms/step - loss: 0.4135 - accuracy: 0.8104\n",
            "Epoch 9/14\n",
            "1096/1096 [==============================] - 30s 27ms/step - loss: 0.4756 - accuracy: 0.7683\n",
            "Epoch 10/14\n",
            "1096/1096 [==============================] - 30s 27ms/step - loss: 0.4697 - accuracy: 0.7630\n",
            "Epoch 11/14\n",
            "1096/1096 [==============================] - 30s 28ms/step - loss: 0.5560 - accuracy: 0.7073\n",
            "Epoch 12/14\n",
            "1096/1096 [==============================] - 31s 28ms/step - loss: 0.5641 - accuracy: 0.6997\n",
            "Epoch 13/14\n",
            "1096/1096 [==============================] - 30s 27ms/step - loss: 0.5255 - accuracy: 0.7228\n",
            "Epoch 14/14\n",
            "1096/1096 [==============================] - 29s 27ms/step - loss: 0.4899 - accuracy: 0.7511\n"
          ]
        }
      ]
    }
  ]
}